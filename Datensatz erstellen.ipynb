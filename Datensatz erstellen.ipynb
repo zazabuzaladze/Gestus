{
 "cells": [
  {
   "cell_type": "code",
   "execution_count": 1,
   "id": "ef15cedc",
   "metadata": {},
   "outputs": [],
   "source": [
    "#!python --version\n",
    "#nötig ist version 3.8.17"
   ]
  },
  {
   "cell_type": "markdown",
   "id": "f0ea7304",
   "metadata": {},
   "source": [
    "## Bibliotheken, die ich benutze"
   ]
  },
  {
   "cell_type": "code",
   "execution_count": 2,
   "id": "b4819111",
   "metadata": {},
   "outputs": [
    {
     "ename": "ModuleNotFoundError",
     "evalue": "No module named 'cv2'",
     "output_type": "error",
     "traceback": [
      "\u001b[1;31m---------------------------------------------------------------------------\u001b[0m",
      "\u001b[1;31mModuleNotFoundError\u001b[0m                       Traceback (most recent call last)",
      "Cell \u001b[1;32mIn[2], line 1\u001b[0m\n\u001b[1;32m----> 1\u001b[0m \u001b[38;5;28;01mimport\u001b[39;00m \u001b[38;5;21;01mcv2\u001b[39;00m \u001b[38;5;28;01mas\u001b[39;00m \u001b[38;5;21;01mcv\u001b[39;00m          \u001b[38;5;66;03m#zugriff auf kamera\u001b[39;00m\n\u001b[0;32m      2\u001b[0m \u001b[38;5;28;01mimport\u001b[39;00m \u001b[38;5;21;01mmediapipe\u001b[39;00m \u001b[38;5;28;01mas\u001b[39;00m \u001b[38;5;21;01mmp\u001b[39;00m    \u001b[38;5;66;03m#model erstellen\u001b[39;00m\n\u001b[0;32m      3\u001b[0m \u001b[38;5;28;01mimport\u001b[39;00m \u001b[38;5;21;01mnumpy\u001b[39;00m \u001b[38;5;28;01mas\u001b[39;00m \u001b[38;5;21;01mnp\u001b[39;00m        \u001b[38;5;66;03m#mit arrays arbeiten\u001b[39;00m\n",
      "\u001b[1;31mModuleNotFoundError\u001b[0m: No module named 'cv2'"
     ]
    }
   ],
   "source": [
    "import cv2 as cv          #zugriff auf kamera\n",
    "import mediapipe as mp    #model erstellen\n",
    "import numpy as np        #mit arrays arbeiten\n",
    "import os                 #mit dem Dateisystem interagieren"
   ]
  },
  {
   "cell_type": "markdown",
   "id": "e501d386",
   "metadata": {},
   "source": [
    "## Verzeichnis für datensatz/\"videos\" anlegen"
   ]
  },
  {
   "cell_type": "code",
   "execution_count": 46,
   "id": "f6f35ddb",
   "metadata": {},
   "outputs": [],
   "source": [
    "#https://www.geeksforgeeks.org/create-a-directory-in-python/\n",
    "\n",
    "#ornder name für meine datensätze (daten werden als \".npy\" dateiformat gespeichert (als arrays))\n",
    "DATA_PATH = os.path.join(\"datensatz1\")\n",
    "\n",
    "#gebärden die wir aufnehmen\n",
    "gesten = np.array([\"deutschland, frieden, hallo, liebe, praesentation, wettbewerb\"])\n",
    "\n",
    "#anzahl der \"videos\" pro gebärde\n",
    "num_videos = 40\n",
    "\n",
    "#länge der video (in frame)\n",
    "vid_length = 20"
   ]
  },
  {
   "cell_type": "code",
   "execution_count": 47,
   "id": "c5f88aaf",
   "metadata": {},
   "outputs": [],
   "source": [
    "#ordner erstellen\n",
    "for geste in gesten:\n",
    "    for vid in range(num_videos):\n",
    "        os.makedirs(os.path.join(DATA_PATH, geste, str(vid)))"
   ]
  },
  {
   "cell_type": "markdown",
   "id": "df185151",
   "metadata": {},
   "source": [
    "## auf unsere Webcam zugreifen + Modell/K-Punkte und Videos erstellen"
   ]
  },
  {
   "cell_type": "code",
   "execution_count": 5,
   "id": "c8f2edac",
   "metadata": {},
   "outputs": [],
   "source": [
    "#ich verwende Mediapipe, aber gute Alternativen sind OpenPose und AlphaPose\n",
    "\n",
    "#hilfreiche links:\n",
    "#https://developers.google.com/mediapipe/solutions/vision/hand_landmarker/python\n",
    "#https://developers.google.com/mediapipe/solutions/vision/gesture_recognizer/python\n",
    "#https://developers.google.com/mediapipe/solutions/vision/pose_landmarker/python#image\n",
    "#https://developers.google.com/mediapipe/solutions/vision/holistic_landmarker\n",
    "#https://www.youtube.com/watch?v=01sAkU_NvOY&ab_channel=freeCodeCamp.org\n",
    "#https://www.youtube.com/watch?v=doDUihpj6ro&list=PLyx6mI41rWldgZWHzHBGBQfP5MxFQNcFf&index=5&ab_channel=NicholasRenotte"
   ]
  },
  {
   "cell_type": "code",
   "execution_count": 6,
   "id": "6d22ee65",
   "metadata": {},
   "outputs": [],
   "source": [
    "#modelle erstellen\n",
    "\n",
    "mp_holistic = mp.solutions.holistic\n",
    "#holistic kombiert hände, körper und gesicht erkennung\n",
    "#https://developers.google.com/mediapipe/solutions/vision/holistic_landmarker\n",
    "#https://github.com/google/mediapipe/blob/master/docs/solutions/holistic.md\n",
    "\n",
    "mp_drawing = mp.solutions.drawing_utils"
   ]
  },
  {
   "cell_type": "code",
   "execution_count": 7,
   "id": "b386e356",
   "metadata": {},
   "outputs": [],
   "source": [
    "#farben umwandlung + model hinzufügen\n",
    "def conversion(frame, model):\n",
    "    frame = cv.cvtColor(frame, cv.COLOR_BGR2RGB)\n",
    "    #hier umwandeln wir frame in rgb weil mediapipe braucht rgb format\n",
    "    \n",
    "    frame.flags.writeable = False\n",
    "    results = model.process(frame)\n",
    "    #hier hinzufügen wir mediapipe model/\"eine Vorhersage treffen\"\n",
    "    \n",
    "    frame.flags.writeable = True\n",
    "    frame = cv.cvtColor(frame, cv.COLOR_RGB2BGR)\n",
    "    #hier zurückkehren wir in BGR damit cv2 es zeigen kann\n",
    "    \n",
    "    return frame, results"
   ]
  },
  {
   "cell_type": "code",
   "execution_count": 8,
   "id": "9dd5e0b9",
   "metadata": {},
   "outputs": [],
   "source": [
    "#orientierungspunkte zeigen lassen an cv\n",
    "def show_kpoints(main_frame, results):\n",
    "    #wir werden gesichtspunkte nicht gebrauchen bei gebärdensprache\n",
    "    #mp_drawing.draw_landmarks(main_frame, results.face_landmarks, mp_holistic.FACE_CONNECTIONS)\n",
    "    \n",
    "    #                         image       orientierungspunkte     verbindungskarte\n",
    "    mp_drawing.draw_landmarks(main_frame, results.pose_landmarks, mp_holistic.POSE_CONNECTIONS)\n",
    "    mp_drawing.draw_landmarks(main_frame, results.left_hand_landmarks, mp_holistic.HAND_CONNECTIONS)\n",
    "    mp_drawing.draw_landmarks(main_frame, results.right_hand_landmarks, mp_holistic.HAND_CONNECTIONS)"
   ]
  },
  {
   "cell_type": "code",
   "execution_count": 9,
   "id": "2c05c81b",
   "metadata": {},
   "outputs": [],
   "source": [
    "#k-points extrahieren\n",
    "\n",
    "#wir verwenden die \"try, except\"-Methode, falls nicht alle Schlüsselpunkte in der Kamera angezeigt werden, so dass es nicht zu einem Fehler kommt\n",
    "\n",
    "def extract_keypoints(results):\n",
    "    try:\n",
    "        pose = np.array([[res.x, res.y, res.z, res.visibility] for res in results.pose_landmarks.landmark]).flatten()\n",
    "    except:\n",
    "        pose = np.zeros(33*4)\n",
    "\n",
    "    try:\n",
    "        linke_hand = np.array([[res.x, res.y, res.z] for res in results.left_hand_landmarks.landmark]).flatten()\n",
    "    except:\n",
    "        linke_hand = np.zeros(21*3)\n",
    "\n",
    "    try:\n",
    "        rechte_hand = np.array([[res.x, res.y, res.z] for res in results.right_hand_landmarks.landmark]).flatten()\n",
    "    except:\n",
    "        rechte_hand = np.zeros(21*3)\n",
    "    \n",
    "    return np.concatenate([pose, linke_hand, rechte_hand])"
   ]
  },
  {
   "cell_type": "code",
   "execution_count": 48,
   "id": "d7e4f4fb",
   "metadata": {},
   "outputs": [],
   "source": [
    "#https://www.youtube.com/watch?v=oXlwWbU8l2o&ab_channel=freeCodeCamp.org\n",
    "\n",
    "capture = cv.VideoCapture(0)\n",
    "# 1 = mein computer webcam\n",
    "# 0 = mein externe webcam/handy\n",
    "\n",
    "with mp_holistic.Holistic(min_detection_confidence=0.5, min_tracking_confidence=0.5) as holistic:\n",
    "    \n",
    "    for geste in gesten:\n",
    "    #schleife durch geste\n",
    "        for vid in range(num_videos):\n",
    "        #schleife durch videos\n",
    "            for frame_num in range(vid_length):\n",
    "            #schleife durch video frames\n",
    "\n",
    "                isTrue, frame = capture.read()\n",
    "\n",
    "                flipped_frame = cv.flip(frame, 1)   #bild spiegeln\n",
    "\n",
    "                main_frame, results = conversion(flipped_frame, holistic)\n",
    "                #hier hinzufügen wir unser model\n",
    "\n",
    "                #orientierungspunkte in kamera zeigen lassen\n",
    "                show_kpoints(main_frame, results)\n",
    "                                 \n",
    "                #frames sammeln \n",
    "                if frame_num == 0: \n",
    "                                            #text;                text position\n",
    "                    cv.putText(main_frame, 'START DER SAMMLUNG', (110,240),\n",
    "                               cv.FONT_HERSHEY_SIMPLEX, 1.2, (255, 255, 255), 3, cv.LINE_AA)\n",
    "                                #schrift; schriftgröße; schriftfarbe(BGR); linienstärke; linetype(schönere aussehen)\n",
    "                                #https://docs.opencv.org/4.x/dc/da5/tutorial_py_drawing_functions.html\n",
    "                        \n",
    "                    cv.putText(main_frame, 'Sammeln von Frames fuer \"{}\"; Video Nr.{}'.format(geste, vid), (10,22), \n",
    "                               cv.FONT_HERSHEY_SIMPLEX, 0.7, (255, 255, 255), 2, cv.LINE_AA)\n",
    "                    \n",
    "                    cv.imshow(\"Kamera - Gestus\", main_frame)  #Anzeigen, Wiedergeben des Bildes\n",
    "                    cv.waitKey(2000)\n",
    "                        \n",
    "                else: \n",
    "                    cv.putText(main_frame, 'Sammeln von Frames fuer \"{}\"; Video Nr.{}'.format(geste, vid), (10,22), \n",
    "                                 cv.FONT_HERSHEY_SIMPLEX, 0.7, (255, 255, 255), 2, cv.LINE_AA)\n",
    "                    \n",
    "                    cv.imshow(\"Kamera - Gestus\", main_frame)  #Anzeigen, Wiedergeben des Bildes\n",
    "\n",
    "                \n",
    "                #k-point in Ordner extrahieren\n",
    "                \n",
    "                #k-points speichern in variable\n",
    "                kpoints = extract_keypoints(results)\n",
    "                \n",
    "                #weg/path beschreiben für k-points\n",
    "                npy_path = os.path.join(DATA_PATH, geste, str(vid), str(frame_num))\n",
    "                \n",
    "                #k-points in folder speichern\n",
    "                np.save(npy_path, kpoints)\n",
    "                \n",
    "\n",
    "                if cv.waitKey(20) & 0xFF==ord(\"s\"):\n",
    "                    break\n",
    "                    #mit \"s\"(stop), stoppt videoaufnahme    \n",
    "\n",
    "    capture.release()\n",
    "    cv.destroyAllWindows()"
   ]
  },
  {
   "cell_type": "code",
   "execution_count": 17,
   "id": "4af29181",
   "metadata": {},
   "outputs": [],
   "source": [
    "#cv fenster ausschalten (im absturz fall)\n",
    "\n",
    "capture.release()\n",
    "cv.destroyAllWindows()"
   ]
  },
  {
   "cell_type": "markdown",
   "id": "a3672700",
   "metadata": {},
   "source": [
    "# Quellen und Hilfreiche links"
   ]
  },
  {
   "cell_type": "markdown",
   "id": "cb3ebfbb",
   "metadata": {},
   "source": [
    "https://www.youtube.com/watch?v=doDUihpj6ro&list=PLyx6mI41rWldgZWHzHBGBQfP5MxFQNcFf&index=5&ab_channel=NicholasRenotte\n",
    "https://www.youtube.com/watch?v=01sAkU_NvOY&ab_channel=freeCodeCamp.org\n",
    "https://www.youtube.com/watch?v=oXlwWbU8l2o&ab_channel=freeCodeCamp.org\n",
    "https://www.geeksforgeeks.org/create-a-directory-in-python/\n",
    "https://developers.google.com/mediapipe/solutions/vision/hand_landmarker/python\n",
    "https://developers.google.com/mediapipe/solutions/vision/gesture_recognizer/python\n",
    "https://developers.google.com/mediapipe/solutions/vision/pose_landmarker/python#image\n",
    "https://developers.google.com/mediapipe/solutions/vision/holistic_landmarker\n",
    "https://developers.google.com/mediapipe/solutions/vision/holistic_landmarker\n",
    "https://github.com/google/mediapipe/blob/master/docs/solutions/holistic.md\n",
    "https://docs.opencv.org/4.x/dc/da5/tutorial_py_drawing_functions.html"
   ]
  }
 ],
 "metadata": {
  "kernelspec": {
   "display_name": "Python 3 (ipykernel)",
   "language": "python",
   "name": "python3"
  },
  "language_info": {
   "codemirror_mode": {
    "name": "ipython",
    "version": 3
   },
   "file_extension": ".py",
   "mimetype": "text/x-python",
   "name": "python",
   "nbconvert_exporter": "python",
   "pygments_lexer": "ipython3",
   "version": "3.11.4"
  }
 },
 "nbformat": 4,
 "nbformat_minor": 5
}
