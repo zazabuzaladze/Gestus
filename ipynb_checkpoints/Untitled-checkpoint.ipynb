{
 "cells": [
  {
   "cell_type": "code",
   "execution_count": 1,
   "id": "f096a82e",
   "metadata": {},
   "outputs": [],
   "source": [
    "import cv2 as cv          #zugriff auf kamera\n",
    "import mediapipe as mp    #model erstellen\n",
    "import numpy as np        #mit arrays arbeiten\n",
    "import os                 #mit dem Dateisystem interagieren"
   ]
  },
  {
   "cell_type": "code",
   "execution_count": 20,
   "id": "90392428",
   "metadata": {},
   "outputs": [],
   "source": [
    "def conversion(frame):\n",
    "    frame = cv.cvtColor(frame, cv.COLOR_BGR2RGB)\n",
    "    #hier umwandeln wir frame in rgb weil mediapipe braucht rgb format\n",
    "    \n",
    "    frame.flags.writeable = False\n",
    "    #hier hinzufügen wir mediapipe model/\"eine Vorhersage treffen\"\n",
    "    \n",
    "    frame.flags.writeable = True\n",
    "    frame = cv.cvtColor(frame, cv.COLOR_RGB2BGR)\n",
    "    #hier zurückkehren wir in BGR damit cv2 es zeigen kann\n",
    "    \n",
    "    return frame"
   ]
  },
  {
   "cell_type": "code",
   "execution_count": 101,
   "id": "167e2463",
   "metadata": {},
   "outputs": [],
   "source": [
    "capture = cv.VideoCapture(0)\n",
    "# 0 = mein computer webcam\n",
    "# 3 = mein externe webcam/handy\n",
    "\n",
    "while capture.isOpened():\n",
    "    \n",
    "    isTrue, frame = capture.read()\n",
    "\n",
    "    flipped_frame = cv.flip(frame, 1)   #bild spiegeln\n",
    "    #cv.putText(flipped_frame, \"Projekt von Zaza Buzaladze\", (0, 15), cv.FONT_HERSHEY_TRIPLEX, 0.5, (218,174,131), 1)\n",
    "\n",
    "    main_frame = conversion(flipped_frame)\n",
    "\n",
    "\n",
    "    #zeit für collection  \n",
    "   # cv.putText(main_frame, 'START DER SAMMLUNG', (110,240),\n",
    "   #            cv.FONT_HERSHEY_SIMPLEX, 1.2, (255, 255, 255), 3, cv.LINE_AA)\n",
    "                #schrift; schriftgröße; schriftfarbe(BGR); linienstärke; linetype(schönere aussehen)\n",
    "                #https://docs.opencv.org/4.x/dc/da5/tutorial_py_drawing_functions.html\n",
    "\n",
    "    #cv.putText(main_frame, 'Projekt von Zaza Buzaladze', (370,475), \n",
    "    #            cv.FONT_HERSHEY_SIMPLEX, 0.6, (255, 255, 255), 1, cv.LINE_AA)\n",
    "\n",
    "    cv.rectangle(main_frame, (0,0), (650, 50), (255, 255, 255), -1)\n",
    "    cv.putText(main_frame, \"Hallo\", (240,45), \n",
    "               cv.FONT_HERSHEY_SIMPLEX, 1.5, (0, 0, 0), 3, cv.LINE_AA)\n",
    "    \n",
    "    # cv.imshow(\"kamera\", main_frame)\n",
    "    # cv.waitKey(2000)\n",
    "\n",
    "    # cv.putText(main_frame, 'Collecting frames for Hallo Video Number 1'.format(geste, vid), (15,12), \n",
    "    #              cv.FONT_HERSHEY_SIMPLEX, 0.5, (0, 0, 255), 1, cv.LINE_AA)\n",
    "\n",
    "    cv.imshow(\"kamera\", main_frame)\n",
    "\n",
    "    if cv.waitKey(20) & 0xFF==ord(\"s\"):\n",
    "        break\n",
    "        #mit \"s\"(stop), stoppt videoaufnahme    \n",
    "\n",
    "capture.release()\n",
    "cv.destroyAllWindows()"
   ]
  },
  {
   "cell_type": "code",
   "execution_count": 17,
   "id": "9f86e0ca",
   "metadata": {},
   "outputs": [],
   "source": [
    "capture.release()\n",
    "cv.destroyAllWindows()"
   ]
  },
  {
   "cell_type": "code",
   "execution_count": null,
   "id": "6073ee5c",
   "metadata": {},
   "outputs": [],
   "source": [
    "                    cv.putText(main_frame, 'Projekt von Zaza Buzaladze', (370,475), \n",
    "                               cv.FONT_HERSHEY_SIMPLEX, 0.6, (255, 255, 255), 1, cv.LINE_AA)\n",
    "                    "
   ]
  }
 ],
 "metadata": {
  "kernelspec": {
   "display_name": "Python 3 (ipykernel)",
   "language": "python",
   "name": "python3"
  },
  "language_info": {
   "codemirror_mode": {
    "name": "ipython",
    "version": 3
   },
   "file_extension": ".py",
   "mimetype": "text/x-python",
   "name": "python",
   "nbconvert_exporter": "python",
   "pygments_lexer": "ipython3",
   "version": "3.8.17"
  }
 },
 "nbformat": 4,
 "nbformat_minor": 5
}
